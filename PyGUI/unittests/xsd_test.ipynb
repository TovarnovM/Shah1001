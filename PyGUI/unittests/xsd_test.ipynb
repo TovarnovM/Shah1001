{
 "cells": [
  {
   "cell_type": "code",
   "execution_count": 10,
   "metadata": {},
   "outputs": [],
   "source": [
    "import xmlschema\n",
    "from pprint import pprint\n",
    "import xml.etree.ElementTree as ET"
   ]
  },
  {
   "cell_type": "code",
   "execution_count": 20,
   "metadata": {},
   "outputs": [
    {
     "ename": "XMLSchemaValidationError",
     "evalue": "failed validating <Element 'groups' at 0x000001A45B7E99A8> with XsdElement(name='groups', occurs=[0, None]):\n\nReason: unknown type 'conflict:BattleGroupSample'\n\nSchema:\n\n  <xsd:element xmlns:xsd=\"http://www.w3.org/2001/XMLSchema\" maxOccurs=\"unbounded\" minOccurs=\"0\" name=\"groups\" type=\"conflict:BattleGroup\">\n      <xsd:annotation>\n          <xsd:documentation> Настройка боевых групп </xsd:documentation>\n      </xsd:annotation>\n  </xsd:element>\n\nInstance:\n\n  <groups xmlns:xsi=\"http://www.w3.org/2001/XMLSchema-instance\" course=\"0\" membership=\"_red\" size=\"10\" speed=\"140\" xsi:type=\"conflict:BattleGroupSample\">\n    <order capacity=\"1\" interval=\"486.52\" xsi:type=\"conflict:BattleOrderLine\" />\n    <center x=\"-250001.245\" y=\"2000\" z=\"0\" />\n    <control_center target_outdate=\"5\">\n      <t_distr auto_r_dangers=\"false\" xsi:type=\"conflict:SaatiTD\">\n        <danger_factors relative_danger=\"1\" xsi:type=\"conflict:FlyinTimeDF\" />\n        <danger_factors relative_danger=\"1\" xsi:type=\"conflict:CurrentMissDF\" />\n        <danger_factors relative_danger=\"1\" xsi:type=\"conflict:TargetHeightDF\" />\n        <danger_factors relative_danger=\"1\" xsi:type=\"conflict:TargetDistanceDF\" />\n      </t_distr>\n    </control_center>\n    <prototype exploded=\"false\" id=\"0\" mass=\"0\" membership=\"_unknown\" name=\"MASP\" self_mass=\"0.01\" self_xt=\"0\" type=\"_small_missile\" xt=\"0\" xsi:type=\"conflict:Missile\">\n      <physics_state acoustic_noise=\"0\" aero_heating=\"0\" brightness=\"0\" contrast=\"0\" cross_section=\"2\" radio_intensity=\"0\" temperature=\"0\" />\n      <motion xsi:type=\"conflict:MotionBalancing\" />\n      <power_plant body_mass=\"0\" consumption=\"0\" mass=\"0\" power=\"0\" />\n      <glider alpha=\"0\" beta=\"0\" xsi:type=\"conflict:GliderSimple\">\n        <limit_ny max=\"5\" min=\"-5\" />\n        <limit_nz max=\"3\" min=\"-3\" />\n      </glider>\n      <cpu>\n    ...\n    ...\n  </groups>\n\nPath: /{conflict}settings/groups[1]\n",
     "output_type": "error",
     "traceback": [
      "\u001b[1;31m---------------------------------------------------------------------------\u001b[0m",
      "\u001b[1;31mXMLSchemaValidationError\u001b[0m                  Traceback (most recent call last)",
      "\u001b[1;32m<ipython-input-20-c8c1269f78c7>\u001b[0m in \u001b[0;36m<module>\u001b[1;34m\u001b[0m\n\u001b[0;32m      3\u001b[0m \u001b[0mxml\u001b[0m \u001b[1;33m=\u001b[0m \u001b[0mET\u001b[0m\u001b[1;33m.\u001b[0m\u001b[0mparse\u001b[0m\u001b[1;33m(\u001b[0m\u001b[1;34m'..\\\\resourses\\\\some.xml'\u001b[0m\u001b[1;33m)\u001b[0m\u001b[1;33m\u001b[0m\u001b[1;33m\u001b[0m\u001b[0m\n\u001b[0;32m      4\u001b[0m \u001b[0mroot\u001b[0m \u001b[1;33m=\u001b[0m \u001b[0mxml\u001b[0m\u001b[1;33m.\u001b[0m\u001b[0mgetroot\u001b[0m\u001b[1;33m(\u001b[0m\u001b[1;33m)\u001b[0m\u001b[1;33m\u001b[0m\u001b[1;33m\u001b[0m\u001b[0m\n\u001b[1;32m----> 5\u001b[1;33m \u001b[0mxs\u001b[0m\u001b[1;33m.\u001b[0m\u001b[0mvalidate\u001b[0m\u001b[1;33m(\u001b[0m\u001b[0mroot\u001b[0m\u001b[1;33m)\u001b[0m\u001b[1;33m\u001b[0m\u001b[1;33m\u001b[0m\u001b[0m\n\u001b[0m",
      "\u001b[1;32mc:\\users\\mi\\source\\repos\\shah1001\\pygui\\env_py_gui2\\lib\\site-packages\\xmlschema\\validators\\xsdbase.py\u001b[0m in \u001b[0;36mvalidate\u001b[1;34m(self, source, use_defaults, namespaces)\u001b[0m\n\u001b[0;32m    501\u001b[0m         \"\"\"\n\u001b[0;32m    502\u001b[0m         \u001b[1;32mfor\u001b[0m \u001b[0merror\u001b[0m \u001b[1;32min\u001b[0m \u001b[0mself\u001b[0m\u001b[1;33m.\u001b[0m\u001b[0miter_errors\u001b[0m\u001b[1;33m(\u001b[0m\u001b[0msource\u001b[0m\u001b[1;33m,\u001b[0m \u001b[0muse_defaults\u001b[0m\u001b[1;33m=\u001b[0m\u001b[0muse_defaults\u001b[0m\u001b[1;33m,\u001b[0m \u001b[0mnamespaces\u001b[0m\u001b[1;33m=\u001b[0m\u001b[0mnamespaces\u001b[0m\u001b[1;33m)\u001b[0m\u001b[1;33m:\u001b[0m\u001b[1;33m\u001b[0m\u001b[1;33m\u001b[0m\u001b[0m\n\u001b[1;32m--> 503\u001b[1;33m             \u001b[1;32mraise\u001b[0m \u001b[0merror\u001b[0m\u001b[1;33m\u001b[0m\u001b[1;33m\u001b[0m\u001b[0m\n\u001b[0m\u001b[0;32m    504\u001b[0m \u001b[1;33m\u001b[0m\u001b[0m\n\u001b[0;32m    505\u001b[0m     \u001b[1;32mdef\u001b[0m \u001b[0mis_valid\u001b[0m\u001b[1;33m(\u001b[0m\u001b[0mself\u001b[0m\u001b[1;33m,\u001b[0m \u001b[0msource\u001b[0m\u001b[1;33m,\u001b[0m \u001b[0muse_defaults\u001b[0m\u001b[1;33m=\u001b[0m\u001b[1;32mTrue\u001b[0m\u001b[1;33m)\u001b[0m\u001b[1;33m:\u001b[0m\u001b[1;33m\u001b[0m\u001b[1;33m\u001b[0m\u001b[0m\n",
      "\u001b[1;31mXMLSchemaValidationError\u001b[0m: failed validating <Element 'groups' at 0x000001A45B7E99A8> with XsdElement(name='groups', occurs=[0, None]):\n\nReason: unknown type 'conflict:BattleGroupSample'\n\nSchema:\n\n  <xsd:element xmlns:xsd=\"http://www.w3.org/2001/XMLSchema\" maxOccurs=\"unbounded\" minOccurs=\"0\" name=\"groups\" type=\"conflict:BattleGroup\">\n      <xsd:annotation>\n          <xsd:documentation> Настройка боевых групп </xsd:documentation>\n      </xsd:annotation>\n  </xsd:element>\n\nInstance:\n\n  <groups xmlns:xsi=\"http://www.w3.org/2001/XMLSchema-instance\" course=\"0\" membership=\"_red\" size=\"10\" speed=\"140\" xsi:type=\"conflict:BattleGroupSample\">\n    <order capacity=\"1\" interval=\"486.52\" xsi:type=\"conflict:BattleOrderLine\" />\n    <center x=\"-250001.245\" y=\"2000\" z=\"0\" />\n    <control_center target_outdate=\"5\">\n      <t_distr auto_r_dangers=\"false\" xsi:type=\"conflict:SaatiTD\">\n        <danger_factors relative_danger=\"1\" xsi:type=\"conflict:FlyinTimeDF\" />\n        <danger_factors relative_danger=\"1\" xsi:type=\"conflict:CurrentMissDF\" />\n        <danger_factors relative_danger=\"1\" xsi:type=\"conflict:TargetHeightDF\" />\n        <danger_factors relative_danger=\"1\" xsi:type=\"conflict:TargetDistanceDF\" />\n      </t_distr>\n    </control_center>\n    <prototype exploded=\"false\" id=\"0\" mass=\"0\" membership=\"_unknown\" name=\"MASP\" self_mass=\"0.01\" self_xt=\"0\" type=\"_small_missile\" xt=\"0\" xsi:type=\"conflict:Missile\">\n      <physics_state acoustic_noise=\"0\" aero_heating=\"0\" brightness=\"0\" contrast=\"0\" cross_section=\"2\" radio_intensity=\"0\" temperature=\"0\" />\n      <motion xsi:type=\"conflict:MotionBalancing\" />\n      <power_plant body_mass=\"0\" consumption=\"0\" mass=\"0\" power=\"0\" />\n      <glider alpha=\"0\" beta=\"0\" xsi:type=\"conflict:GliderSimple\">\n        <limit_ny max=\"5\" min=\"-5\" />\n        <limit_nz max=\"3\" min=\"-3\" />\n      </glider>\n      <cpu>\n    ...\n    ...\n  </groups>\n\nPath: /{conflict}settings/groups[1]\n"
     ]
    }
   ],
   "source": [
    "xs = xmlschema.XMLSchema('..\\\\resourses\\\\settings.xsd')\n",
    "# xs.to_etree('..\\\\resourses\\\\some_old.xml')\n",
    "xml = ET.parse('..\\\\resourses\\\\some.xml')\n",
    "root = xml.getroot()\n",
    "xs.validate(root)"
   ]
  },
  {
   "cell_type": "code",
   "execution_count": 21,
   "metadata": {},
   "outputs": [],
   "source": []
  },
  {
   "cell_type": "code",
   "execution_count": 25,
   "metadata": {},
   "outputs": [],
   "source": [
    "from lxml import etree\n",
    "xmlschema_doc = etree.parse('..\\\\resourses\\\\settings_old.xsd')\n",
    "xmlschema = etree.XMLSchema(xmlschema_doc)\n",
    "doc = etree.parse('..\\\\resourses\\\\some_old.xml')\n",
    "xmlschema.validate(doc)"
   ]
  },
  {
   "cell_type": "code",
   "execution_count": 37,
   "metadata": {},
   "outputs": [
    {
     "name": "stdout",
     "output_type": "stream",
     "text": [
      "{conflict}settings\n",
      "randomizer\n",
      "environment\n",
      "weather\n",
      "wind_speed\n",
      "groups\n",
      "order\n",
      "center\n",
      "control_center\n",
      "t_distr\n",
      "danger_factors\n",
      "danger_factors\n",
      "danger_factors\n",
      "danger_factors\n",
      "prototype\n",
      "physics_state\n",
      "motion\n",
      "power_plant\n",
      "glider\n",
      "limit_ny\n",
      "limit_nz\n",
      "cpu\n",
      "algorithms_v\n",
      "algorithms_v\n",
      "algorithms_v\n",
      "limit_ny\n",
      "limit_nz\n",
      "head\n",
      "phi_h\n",
      "phi_v\n",
      "sensors\n",
      "complex_alg\n",
      "aiming_point\n",
      "warhead\n",
      "selfdestruction\n",
      "factors\n",
      "groups\n",
      "order\n",
      "center\n",
      "control_center\n",
      "t_distr\n",
      "danger_factors\n",
      "danger_factors\n",
      "danger_factors\n",
      "danger_factors\n",
      "prototype\n",
      "physics_state\n",
      "motion\n",
      "power_plant\n",
      "glider\n",
      "limit_ny\n",
      "limit_nz\n",
      "cpu\n",
      "algorithms_v\n",
      "algorithms_v\n",
      "algorithms_v\n",
      "limit_ny\n",
      "limit_nz\n",
      "head\n",
      "phi_h\n",
      "phi_v\n",
      "sensors\n",
      "complex_alg\n",
      "aiming_point\n",
      "warhead\n",
      "selfdestruction\n",
      "factors\n",
      "groups\n",
      "order\n",
      "center\n",
      "control_center\n",
      "t_distr\n",
      "danger_factors\n",
      "danger_factors\n",
      "danger_factors\n",
      "danger_factors\n",
      "prototype\n",
      "physics_state\n",
      "motion\n",
      "power_plant\n",
      "glider\n",
      "limit_ny\n",
      "limit_nz\n",
      "cpu\n",
      "algorithms_v\n",
      "algorithms_v\n",
      "algorithms_v\n",
      "limit_ny\n",
      "limit_nz\n",
      "head\n",
      "phi_h\n",
      "phi_v\n",
      "sensors\n",
      "complex_alg\n",
      "aiming_point\n",
      "warhead\n",
      "selfdestruction\n",
      "factors\n",
      "groups\n",
      "order\n",
      "center\n",
      "control_center\n",
      "t_distr\n",
      "danger_factors\n",
      "danger_factors\n",
      "danger_factors\n",
      "danger_factors\n",
      "prototype\n",
      "physics_state\n",
      "motion\n",
      "power_plant\n",
      "glider\n",
      "limit_ny\n",
      "limit_nz\n",
      "cpu\n",
      "algorithms_v\n",
      "algorithms_v\n",
      "algorithms_v\n",
      "limit_ny\n",
      "limit_nz\n",
      "head\n",
      "phi_h\n",
      "phi_v\n",
      "sensors\n",
      "complex_alg\n",
      "aiming_point\n",
      "warhead\n",
      "selfdestruction\n",
      "factors\n",
      "groups\n",
      "order\n",
      "center\n",
      "control_center\n",
      "t_distr\n",
      "danger_factors\n",
      "danger_factors\n",
      "danger_factors\n",
      "danger_factors\n",
      "prototype\n",
      "physics_state\n",
      "motion\n",
      "power_plant\n",
      "glider\n",
      "limit_ny\n",
      "limit_nz\n",
      "cpu\n",
      "algorithms_v\n",
      "algorithms_v\n",
      "algorithms_v\n",
      "limit_ny\n",
      "limit_nz\n",
      "head\n",
      "phi_h\n",
      "phi_v\n",
      "sensors\n",
      "complex_alg\n",
      "aiming_point\n",
      "warhead\n",
      "selfdestruction\n",
      "factors\n",
      "groups\n",
      "order\n",
      "center\n",
      "control_center\n",
      "t_distr\n",
      "danger_factors\n",
      "danger_factors\n",
      "danger_factors\n",
      "danger_factors\n",
      "prototype\n",
      "physics_state\n",
      "firing_channels\n",
      "noescape_zone\n",
      "hit_probabilities\n",
      "firing_channels\n",
      "noescape_zone\n",
      "hit_probabilities\n",
      "firing_channels\n",
      "noescape_zone\n",
      "hit_probabilities\n",
      "firing_channels\n",
      "noescape_zone\n",
      "hit_probabilities\n",
      "ammunition\n",
      "prototype\n",
      "physics_state\n",
      "motion\n",
      "power_plant\n",
      "engines_v\n",
      "glider\n",
      "limit_ny\n",
      "limit_nz\n",
      "cpu\n",
      "algorithms_v\n",
      "limit_ny\n",
      "limit_nz\n",
      "algorithms_v\n",
      "times\n",
      "sensors\n",
      "complex_alg\n",
      "aiming_point\n",
      "warhead\n",
      "selfdestruction\n",
      "factors\n",
      "radars\n",
      "control_center\n",
      "t_distr\n",
      "danger_factors\n",
      "danger_factors\n",
      "danger_factors\n",
      "danger_factors\n"
     ]
    }
   ],
   "source": [
    "for t in doc.iter():\n",
    "    print(t.tag)"
   ]
  },
  {
   "cell_type": "code",
   "execution_count": 28,
   "metadata": {},
   "outputs": [
    {
     "data": {
      "text/plain": [
       "<lxml.etree._ElementTree at 0x1a45b37f4c8>"
      ]
     },
     "execution_count": 28,
     "metadata": {},
     "output_type": "execute_result"
    }
   ],
   "source": [
    "doc."
   ]
  },
  {
   "cell_type": "code",
   "execution_count": null,
   "metadata": {},
   "outputs": [],
   "source": []
  },
  {
   "cell_type": "code",
   "execution_count": null,
   "metadata": {},
   "outputs": [],
   "source": []
  },
  {
   "cell_type": "code",
   "execution_count": 4,
   "metadata": {},
   "outputs": [],
   "source": [
    "tp = xs.elements"
   ]
  },
  {
   "cell_type": "code",
   "execution_count": 5,
   "metadata": {},
   "outputs": [
    {
     "data": {
      "text/plain": [
       "NamespaceView({'settings': XsdElement(name='conflict:settings', occurs=[1, 1])})"
      ]
     },
     "execution_count": 5,
     "metadata": {},
     "output_type": "execute_result"
    }
   ],
   "source": [
    "tp."
   ]
  },
  {
   "cell_type": "code",
   "execution_count": 75,
   "metadata": {},
   "outputs": [
    {
     "data": {
      "text/plain": [
       "<Element '{http://www.w3.org/2001/XMLSchema}enumeration' at 0x0000025327EFCA48>"
      ]
     },
     "execution_count": 75,
     "metadata": {},
     "output_type": "execute_result"
    }
   ],
   "source": [
    "fc = next(iter(tp.facets.values()))\n",
    "f = next(iter(fc))\n",
    "f."
   ]
  },
  {
   "cell_type": "code",
   "execution_count": 36,
   "metadata": {},
   "outputs": [
    {
     "name": "stdout",
     "output_type": "stream",
     "text": [
      "XsdAtomicRestriction(name='conflict:Membership')\n"
     ]
    }
   ],
   "source": [
    "for c in tp.iter_components():\n",
    "    print(c)"
   ]
  }
 ],
 "metadata": {
  "kernelspec": {
   "display_name": "env_py_gui",
   "language": "python",
   "name": "env_py_gui"
  },
  "language_info": {
   "codemirror_mode": {
    "name": "ipython",
    "version": 3
   },
   "file_extension": ".py",
   "mimetype": "text/x-python",
   "name": "python",
   "nbconvert_exporter": "python",
   "pygments_lexer": "ipython3",
   "version": "3.6.7"
  }
 },
 "nbformat": 4,
 "nbformat_minor": 2
}
